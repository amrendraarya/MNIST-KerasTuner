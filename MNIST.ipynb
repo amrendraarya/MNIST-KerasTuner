{
  "nbformat": 4,
  "nbformat_minor": 0,
  "metadata": {
    "colab": {
      "name": "MNIST.ipynb",
      "provenance": []
    },
    "kernelspec": {
      "name": "python3",
      "display_name": "Python 3"
    },
    "accelerator": "GPU"
  },
  "cells": [
    {
      "cell_type": "markdown",
      "metadata": {
        "id": "MERVr7ztOapb",
        "colab_type": "text"
      },
      "source": [
        "Neural Network to classify the MNIST Hand written digit."
      ]
    },
    {
      "cell_type": "code",
      "metadata": {
        "id": "d9u4PWB3Bn7A",
        "colab_type": "code",
        "colab": {}
      },
      "source": [
        "# Importing the library\n",
        "import tensorflow as tf\n",
        "from tensorflow import keras\n",
        "\n",
        "import IPython\n",
        "from kerastuner import RandomSearch\n",
        "from kerastuner.engine.hyperparameters import HyperParameters"
      ],
      "execution_count": 1,
      "outputs": []
    },
    {
      "cell_type": "code",
      "metadata": {
        "id": "pxh_CCK3BxLS",
        "colab_type": "code",
        "colab": {}
      },
      "source": [
        "# Load the data from dataset \n",
        "(img_train, label_train), (img_test, label_test) = keras.datasets.mnist.load_data()"
      ],
      "execution_count": 2,
      "outputs": []
    },
    {
      "cell_type": "code",
      "metadata": {
        "id": "xWr3KUGdCABo",
        "colab_type": "code",
        "colab": {
          "base_uri": "https://localhost:8080/",
          "height": 34
        },
        "outputId": "cd715577-c32c-4a8c-a799-d8c0c45de6e3"
      },
      "source": [
        "# Finding the shape of \n",
        "img_train[0].shape"
      ],
      "execution_count": 3,
      "outputs": [
        {
          "output_type": "execute_result",
          "data": {
            "text/plain": [
              "(28, 28)"
            ]
          },
          "metadata": {
            "tags": []
          },
          "execution_count": 3
        }
      ]
    },
    {
      "cell_type": "code",
      "metadata": {
        "id": "A09gC9l3MkBy",
        "colab_type": "code",
        "colab": {}
      },
      "source": [
        "#Normalize pixel values between 0 and 1\n",
        "img_train=img_train/255.0\n",
        "img_test=img_test/255.0"
      ],
      "execution_count": 4,
      "outputs": []
    },
    {
      "cell_type": "code",
      "metadata": {
        "id": "F6WkWtC-IIvV",
        "colab_type": "code",
        "colab": {}
      },
      "source": [
        "#reshaping the data\n",
        "img_train=img_train.reshape(len(img_train),28,28,1)\n",
        "img_test=img_test.reshape(len(img_test),28,28,1)"
      ],
      "execution_count": 5,
      "outputs": []
    },
    {
      "cell_type": "code",
      "metadata": {
        "id": "alNFfaFfzi6z",
        "colab_type": "code",
        "colab": {}
      },
      "source": [
        "#\n",
        "def build_model(hp):  \n",
        "  model = keras.Sequential([\n",
        "    # Tune the number of units in the first CNN layer\n",
        "    # Choose an optimal value between 32-128\n",
        "    keras.layers.Conv2D(\n",
        "        filters=hp.Int('conv_1_filter', min_value=32, max_value=128, step=16),\n",
        "        kernel_size=hp.Choice('conv_1_kernel', values = [3,5]),\n",
        "        activation='relu',\n",
        "        input_shape=(28,28,1)\n",
        "    ),\n",
        "\n",
        "    # Tune the number of units in the second CNN layer\n",
        "    # Choose an optimal value between 32-12648\n",
        "    keras.layers.Conv2D(\n",
        "        filters=hp.Int('conv_2_filter', min_value=32, max_value=64, step=16),\n",
        "        kernel_size=hp.Choice('conv_2_kernel', values = [3,5]),\n",
        "        activation='relu'\n",
        "    ),\n",
        "    keras.layers.Flatten(),\n",
        "    # Tune the number of units in the first Dense layer\n",
        "    # Choose an optimal value between 32-128\n",
        "    keras.layers.Dense(\n",
        "        units=hp.Int('dense_1_units', min_value=32, max_value=128, step=16),\n",
        "        activation='relu'\n",
        "    ),\n",
        "    #last dense layer\n",
        "    keras.layers.Dense(10, activation='softmax')\n",
        "  ])\n",
        "  model.compile(optimizer=keras.optimizers.Adam(hp.Choice('learning_rate', values=[1e-1,1e-2, 1e-3])),\n",
        "              loss='sparse_categorical_crossentropy',\n",
        "              metrics=['accuracy'])\n",
        "  \n",
        "  return model"
      ],
      "execution_count": 6,
      "outputs": []
    },
    {
      "cell_type": "code",
      "metadata": {
        "id": "HKFxb_pI05W-",
        "colab_type": "code",
        "colab": {
          "base_uri": "https://localhost:8080/",
          "height": 51
        },
        "outputId": "bf47603c-02d2-4bd9-ac9a-1227a6fa235f"
      },
      "source": [
        "tuner_search=RandomSearch(build_model,\n",
        "                          objective='val_accuracy',\n",
        "                          max_trials=10,directory='output',project_name=\"Mnist\")"
      ],
      "execution_count": 7,
      "outputs": [
        {
          "output_type": "stream",
          "text": [
            "INFO:tensorflow:Reloading Oracle from existing project output/Mnist/oracle.json\n",
            "INFO:tensorflow:Reloading Tuner from output/Mnist/tuner0.json\n"
          ],
          "name": "stdout"
        }
      ]
    },
    {
      "cell_type": "code",
      "metadata": {
        "id": "Zj1v6QjeJWQD",
        "colab_type": "code",
        "colab": {
          "base_uri": "https://localhost:8080/",
          "height": 34
        },
        "outputId": "185e4e58-ae12-4c0b-f711-1f171255e9da"
      },
      "source": [
        "tuner_search.search(img_train,label_train,epochs=3,validation_split=0.1)"
      ],
      "execution_count": 8,
      "outputs": [
        {
          "output_type": "stream",
          "text": [
            "INFO:tensorflow:Oracle triggered exit\n"
          ],
          "name": "stdout"
        }
      ]
    },
    {
      "cell_type": "code",
      "metadata": {
        "id": "v9in6O7E2Abd",
        "colab_type": "code",
        "colab": {}
      },
      "source": [
        "# Get the optimal hyperparameters\n",
        "model=tuner_search.get_best_models(num_models=1)[0]"
      ],
      "execution_count": 9,
      "outputs": []
    },
    {
      "cell_type": "code",
      "metadata": {
        "id": "snksS9ETLSJg",
        "colab_type": "code",
        "colab": {
          "base_uri": "https://localhost:8080/",
          "height": 323
        },
        "outputId": "42623f10-813d-4972-9f3e-859fca51fcba"
      },
      "source": [
        "model.summary()"
      ],
      "execution_count": 10,
      "outputs": [
        {
          "output_type": "stream",
          "text": [
            "Model: \"sequential\"\n",
            "_________________________________________________________________\n",
            "Layer (type)                 Output Shape              Param #   \n",
            "=================================================================\n",
            "conv2d (Conv2D)              (None, 26, 26, 64)        640       \n",
            "_________________________________________________________________\n",
            "conv2d_1 (Conv2D)            (None, 22, 22, 48)        76848     \n",
            "_________________________________________________________________\n",
            "flatten (Flatten)            (None, 23232)             0         \n",
            "_________________________________________________________________\n",
            "dense (Dense)                (None, 64)                1486912   \n",
            "_________________________________________________________________\n",
            "dense_1 (Dense)              (None, 10)                650       \n",
            "=================================================================\n",
            "Total params: 1,565,050\n",
            "Trainable params: 1,565,050\n",
            "Non-trainable params: 0\n",
            "_________________________________________________________________\n"
          ],
          "name": "stdout"
        }
      ]
    },
    {
      "cell_type": "code",
      "metadata": {
        "id": "A9pmMPx0LU2c",
        "colab_type": "code",
        "colab": {
          "base_uri": "https://localhost:8080/",
          "height": 952
        },
        "outputId": "5fe5f178-210a-4529-df69-95508e7a8d0c"
      },
      "source": [
        "model.fit(img_train, label_train, epochs=30, validation_split=0.1, initial_epoch=3)"
      ],
      "execution_count": 12,
      "outputs": [
        {
          "output_type": "stream",
          "text": [
            "Epoch 4/30\n",
            "1688/1688 [==============================] - 7s 4ms/step - loss: 0.0037 - accuracy: 0.9988 - val_loss: 0.0901 - val_accuracy: 0.9892\n",
            "Epoch 5/30\n",
            "1688/1688 [==============================] - 7s 4ms/step - loss: 0.0041 - accuracy: 0.9986 - val_loss: 0.0901 - val_accuracy: 0.9890\n",
            "Epoch 6/30\n",
            "1688/1688 [==============================] - 7s 4ms/step - loss: 0.0031 - accuracy: 0.9989 - val_loss: 0.0920 - val_accuracy: 0.9898\n",
            "Epoch 7/30\n",
            "1688/1688 [==============================] - 7s 4ms/step - loss: 0.0036 - accuracy: 0.9988 - val_loss: 0.0855 - val_accuracy: 0.9903\n",
            "Epoch 8/30\n",
            "1688/1688 [==============================] - 7s 4ms/step - loss: 0.0034 - accuracy: 0.9990 - val_loss: 0.0794 - val_accuracy: 0.9905\n",
            "Epoch 9/30\n",
            "1688/1688 [==============================] - 7s 4ms/step - loss: 0.0011 - accuracy: 0.9996 - val_loss: 0.0939 - val_accuracy: 0.9895\n",
            "Epoch 10/30\n",
            "1688/1688 [==============================] - 7s 4ms/step - loss: 0.0044 - accuracy: 0.9987 - val_loss: 0.0915 - val_accuracy: 0.9887\n",
            "Epoch 11/30\n",
            "1688/1688 [==============================] - 7s 4ms/step - loss: 0.0021 - accuracy: 0.9994 - val_loss: 0.1038 - val_accuracy: 0.9902\n",
            "Epoch 12/30\n",
            "1688/1688 [==============================] - 7s 4ms/step - loss: 0.0014 - accuracy: 0.9996 - val_loss: 0.0866 - val_accuracy: 0.9908\n",
            "Epoch 13/30\n",
            "1688/1688 [==============================] - 7s 4ms/step - loss: 0.0029 - accuracy: 0.9990 - val_loss: 0.0934 - val_accuracy: 0.9908\n",
            "Epoch 14/30\n",
            "1688/1688 [==============================] - 7s 4ms/step - loss: 0.0023 - accuracy: 0.9992 - val_loss: 0.0874 - val_accuracy: 0.9908\n",
            "Epoch 15/30\n",
            "1688/1688 [==============================] - 7s 4ms/step - loss: 0.0022 - accuracy: 0.9995 - val_loss: 0.1201 - val_accuracy: 0.9880\n",
            "Epoch 16/30\n",
            "1688/1688 [==============================] - 7s 4ms/step - loss: 0.0024 - accuracy: 0.9992 - val_loss: 0.0845 - val_accuracy: 0.9915\n",
            "Epoch 17/30\n",
            "1688/1688 [==============================] - 7s 4ms/step - loss: 0.0016 - accuracy: 0.9996 - val_loss: 0.0831 - val_accuracy: 0.9912\n",
            "Epoch 18/30\n",
            "1688/1688 [==============================] - 7s 4ms/step - loss: 0.0025 - accuracy: 0.9994 - val_loss: 0.1081 - val_accuracy: 0.9882\n",
            "Epoch 19/30\n",
            "1688/1688 [==============================] - 7s 4ms/step - loss: 0.0021 - accuracy: 0.9993 - val_loss: 0.0860 - val_accuracy: 0.9922\n",
            "Epoch 20/30\n",
            "1688/1688 [==============================] - 8s 5ms/step - loss: 0.0022 - accuracy: 0.9995 - val_loss: 0.1337 - val_accuracy: 0.9892\n",
            "Epoch 21/30\n",
            "1688/1688 [==============================] - 7s 4ms/step - loss: 0.0020 - accuracy: 0.9994 - val_loss: 0.0860 - val_accuracy: 0.9898\n",
            "Epoch 22/30\n",
            "1688/1688 [==============================] - 7s 4ms/step - loss: 3.4242e-04 - accuracy: 0.9999 - val_loss: 0.1806 - val_accuracy: 0.9867\n",
            "Epoch 23/30\n",
            "1688/1688 [==============================] - 7s 4ms/step - loss: 0.0044 - accuracy: 0.9988 - val_loss: 0.1199 - val_accuracy: 0.9898\n",
            "Epoch 24/30\n",
            "1688/1688 [==============================] - 7s 4ms/step - loss: 0.0027 - accuracy: 0.9994 - val_loss: 0.1224 - val_accuracy: 0.9877\n",
            "Epoch 25/30\n",
            "1688/1688 [==============================] - 7s 4ms/step - loss: 0.0014 - accuracy: 0.9996 - val_loss: 0.1116 - val_accuracy: 0.9887\n",
            "Epoch 26/30\n",
            "1688/1688 [==============================] - 7s 4ms/step - loss: 0.0017 - accuracy: 0.9995 - val_loss: 0.1242 - val_accuracy: 0.9887\n",
            "Epoch 27/30\n",
            "1688/1688 [==============================] - 7s 4ms/step - loss: 0.0025 - accuracy: 0.9993 - val_loss: 0.1254 - val_accuracy: 0.9907\n",
            "Epoch 28/30\n",
            "1688/1688 [==============================] - 7s 4ms/step - loss: 0.0016 - accuracy: 0.9996 - val_loss: 0.1438 - val_accuracy: 0.9890\n",
            "Epoch 29/30\n",
            "1688/1688 [==============================] - 7s 4ms/step - loss: 0.0012 - accuracy: 0.9997 - val_loss: 0.1206 - val_accuracy: 0.9915\n",
            "Epoch 30/30\n",
            "1688/1688 [==============================] - 7s 4ms/step - loss: 0.0014 - accuracy: 0.9996 - val_loss: 0.1327 - val_accuracy: 0.9880\n"
          ],
          "name": "stdout"
        },
        {
          "output_type": "execute_result",
          "data": {
            "text/plain": [
              "<tensorflow.python.keras.callbacks.History at 0x7f78c02ea5f8>"
            ]
          },
          "metadata": {
            "tags": []
          },
          "execution_count": 12
        }
      ]
    },
    {
      "cell_type": "code",
      "metadata": {
        "id": "g1RoQtO_L3jd",
        "colab_type": "code",
        "colab": {}
      },
      "source": [
        ""
      ],
      "execution_count": 11,
      "outputs": []
    }
  ]
}